{
 "cells": [
  {
   "cell_type": "markdown",
   "metadata": {},
   "source": [
    "# Notebook 2\n",
    "# Example of use astroABC package\n",
    "## Roger Mor\n",
    "\n",
    "### Multiprocessing in a normal PC"
   ]
  },
  {
   "cell_type": "markdown",
   "metadata": {},
   "source": [
    "### Introduction to ABC\n",
    "\n",
    "Approximate Bayesian computation\n",
    "(ABC) and so called \"likelihood free\" Markov chain Monte Carlo techniques are popular methods\n",
    "for tackling parameter inference in scenarios where the likelihood is intractable or unknown.\n",
    "These methods are called likelihood free as they are free from any assumption about the form of the likelihood, as ABC aims to simulate samples from the parameter posterior distribution directly.\n",
    "In traditional MCMC approaches the target distribution is the posterior distribution of interest and in practice our estimate of this pdf is approximate due to finite sampling time resulting in a correlated chain which we hope has converged.\n",
    "ABC methods are also approximate in the sense that samples are generated from trial distributions which we hope are close to the real posterior of interest.\n",
    "The [wikipedia]( https://en.wikipedia.org/wiki/Approximate_Bayesian_computation) page on ABC has a good introduction to the topic.\n",
    "\n",
    "The simplest ABC algorithm is rejection sampling. \n",
    "Given a set of parameters, $\\theta$, with associated priors, $\\pi(\\theta)$ and a forward simulated model for the data,\n",
    "\n",
    "$\\pi(D|\\theta)$. \n",
    "\n",
    "We can simulate from the posterior distribution, $P(\\theta|D)$, by first drawing sample parameters\n",
    "\n",
    "$\\theta^* \\sim \\pi(\\theta)$, \n",
    "\n",
    "then simulating a dataset with these parameters \n",
    "\n",
    "$D^* \\sim \\pi(D|\\theta^*)$.\n",
    "\n",
    "In a simple rejection sampling algorithm, we reject $D^*$  unless it matches the true data, $D$.\n",
    "For discrete data this algorithm would not be practical as many simulated samples would be rejected until an exact match is found.\n",
    "In practice we make an approximation and accept simulated datasets which are \"close\" to the true data. This introduces the idea of a distance metric and tolerance level in ABC. We accept proposed parameters $\\theta^*$, if \n",
    "\n",
    "$\\rho(D^* - D) <\\epsilon$\n",
    "\n",
    "where $\\rho$ is the distance metric, which could be e.g. the Euclidean norm $||D^* - D||$,  and $\\epsilon$ is a tolerance threshold. This procedure produces samples from \n",
    "\n",
    "$P(\\theta | \\rho(D^*-D)<\\epsilon)$ \n",
    "\n",
    "which will be a good approximation of the true posterior if $\\epsilon$ is small.\n",
    "\n",
    "The tolerance threshold in ABC controls which of the proposed parameters are accepted given the distance metric. There are two considerations in choosing this threshold. If the tolerance is too high then too many proposed parameters are accepted and the prior distribution dominates the results e.g. if the tolerance level is infinity then we would just recover the prior distribution from the algorithm. If the tolerance level is too low then the sampler is very inefficient with many proposed points being rejected.\n",
    "A compromise is to select a set of decreasing tolerance levels where for the initial iterations in the algorithm we accept points in parameter space which do not represent the data with high accuracy but as the algorithm progresses the tolerance level decreases and our estimate of the true posterior distribution improves.\n",
    "\n",
    "In many cases it may be simpler to work with some lower dimension summary statistic of the data, $S(D)$,\n",
    "rather then the full dataset. In this case the chosen statistic needs to be a so-called *sufficient statistic* in that\n",
    "any information about the parameter of interest which is contained in the data, is also contained in the summary statistic. More formally a statistic $S(D)$ is sufficient for $\\theta$ if the distribution $P(D|S(D))$ does not depend on $\\theta$.\n",
    "This requirement ensures that in summarizing the data we have not thrown away constraining information about $\\theta$.\n"
   ]
  },
  {
   "cell_type": "markdown",
   "metadata": {},
   "source": [
    "### ABC Sequential Monte Carlo\n",
    "\n",
    "Rather than drawing candiates $\\theta^*$, one at a time, we can\n",
    "speed up the ABC algorithm by working with large\n",
    "pools of candidates, called particles, simultaneously. \n",
    "At each stage of the algorithm the particles are perturbed and filtered using the distance metric, and eventually\n",
    "this pool of particles move closer and closer to simulating from the desired posterior distribution.\n",
    "This approach is known as Sequential Monte Carlo or Particle Monte Carlo sampling.\n",
    "\n",
    "Outline of the ABC SMC algorithm:\n",
    "\n",
    "- At iteration 0, for each particle:\n",
    "    1. Generate $\\theta_i^* \\sim \\pi(\\theta)$. \n",
    "    2. Simulate a dataset $D_i^* \\sim \\pi(D|\\theta_i^*)$\n",
    "    3. If  $\\rho(S(D_i^*) - S(D))<\\epsilon_0$ accept $\\theta_i^*$ else go to 1.\n",
    "- set $\\theta_{i,0} = \\theta_i^*$\n",
    "- set weights for each particle $w_{i,0} = 1/N$\n",
    "- evaluate the covariance amongst particles $\\sigma^2_{1:N;0}$\n",
    "- At iteration t>0, for each particle: \n",
    "    4. Sample random particle from previous iteration $\\theta_i^* \\sim \\theta_{1:N;0}$ \n",
    "    5. Perturb $\\theta_i^*$ by drawing $\\theta_i^{**} \\sim \\mathcal{N}(\\theta^*, \\sigma^2_{t-1})$\n",
    "    6. Simulate a dataset $D_i^* \\sim \\pi(D|\\theta_i^{**})$\n",
    "    7. If  $\\rho(S(D_i^*) - S(D))<\\epsilon_0$ accept $\\theta_i^{**}$ else go to 4.\n",
    "- set $\\theta_{i,t} = \\theta_i^{**}$\n",
    "- set weights for each particle $w_{i,t}$ using a transition kernel\n",
    "- evaluate the covariance amongst particles $\\sigma^2_{1:N;t}$\n",
    "    \n",
    "Different ABC SMC algorithms can be distinguished\n",
    "by how sampling weights are assigned to the particles in the pool.\n",
    "In order to perturb and filter the particles we need a transition kernel. The transition\n",
    "kernel serves the same purpose as the proposal distribution in a standard\n",
    "MCMC algorithm. The transition kernel specifies the distribution of a random variable that will\n",
    "be added to each particle to move it around in the parameter space.\n",
    "For more details on this please see \n",
    "[Beaumont et al 2009]( https://arxiv.org/abs/0805.2256)."
   ]
  },
  {
   "cell_type": "markdown",
   "metadata": {},
   "source": [
    "# Starting the exercise: Toy Example\n",
    "\n",
    "\n",
    "We need to provide:\n",
    "\n",
    "- a dataset\n",
    "- a forwards simulating model for the data\n",
    "- a method defining the distance metric"
   ]
  },
  {
   "cell_type": "markdown",
   "metadata": {},
   "source": [
    "# Test for an axysimetric potential of the Galaxy"
   ]
  },
  {
   "cell_type": "code",
   "execution_count": 76,
   "metadata": {},
   "outputs": [],
   "source": [
    "# goal: recover solar motion\n",
    "# the notebook creates simple 2d arrays (dist-lon) for an axisymmetric galaxy\n",
    "#proposed tests:\n",
    "# 1) no observational errors, recover value of Us from Vtl\n",
    "# 2) with observational errors, recover value of Us from Vtl\n",
    "#this a simple exercice that we could do analytically, but in this way we test the pipeline\n",
    "#of generating the arrays and the ABC methods"
   ]
  },
  {
   "cell_type": "code",
   "execution_count": 77,
   "metadata": {},
   "outputs": [],
   "source": [
    "import numpy as np\n",
    "import matplotlib.pyplot as plt\n",
    "from mpl_toolkits.axes_grid1 import make_axes_locatable\n",
    "from astropy import units as u\n",
    "from astropy.coordinates import SkyCoord\n",
    "from pygaia.astrometry.vectorastrometry import astrometryToPhaseSpace\n",
    "import pygaia.astrometry.coordinates as coord\n",
    "from pygaia.utils import degreesToRadians, radiansToDegrees"
   ]
  },
  {
   "cell_type": "code",
   "execution_count": 78,
   "metadata": {},
   "outputs": [],
   "source": [
    "#circular velocity curve\n",
    "def vcirc_R(R,vc=236.,R0=8.178,alpha=0.):\n",
    "    vcirc=vc*np.power(R/R0, alpha)\n",
    "    return vcirc\n",
    "#potential\n",
    "def Psi0_R(R,vc=236.,R0=8.178,alpha=0.):\n",
    "    if alpha!=0:\n",
    "        Psi0=(vc**2.)*((R/R0)**(2.*alpha))/(2.*alpha)    \n",
    "    else:\n",
    "        Psi0=(vc**2.)*np.log(R)\n",
    "    return Psi0\n",
    "# radial galactocentric velocity\n",
    "def vR_Rphi(R,phi,amp=10.):\n",
    "    return R*phi*0.+amp\n",
    "# rotation galactocentric velocity\n",
    "def vphi_Rphi(R,phi,vc=236.,R0=8.178,alpha=0.):\n",
    "    return R*phi*0.-vcirc_R(R,vc=vc,R0=R0,alpha=alpha)\n",
    "    #phi negative in galactic rotation direction (right-handed system !! )"
   ]
  },
  {
   "cell_type": "code",
   "execution_count": 79,
   "metadata": {},
   "outputs": [],
   "source": [
    "#TRANSFORMATION BETWEEN DIFFERENT COORDINATE SYSTEMS\n",
    "# these transformations are valid for right-handed systems only\n",
    "# it means that phi goes counter-clockwise, and vphi is negative for standard disk rotation\n",
    "\n",
    "#in al cases Vs=Vc+Vpec\n",
    "\n",
    "##############################################\n",
    "# general rotation of coordinate system by an angle phi\n",
    "def rot(phi,X,Y):\n",
    "    s=np.sin(phi)\n",
    "    c=np.cos(phi)  \n",
    "    X2=X*c-Y*s\n",
    "    Y2=X*s+Y*c\n",
    "    return X2,Y2\n",
    "##############################################\n",
    "# from cartesian to cylindric\n",
    "def cart2cyl(X,Y,Z,VX,VY,VZ):\n",
    "    phi=np.arctan2(-Y,-X)\n",
    "    R=np.sqrt(X*X+Y*Y)\n",
    "    VR,Vphi=rot(-(np.pi+phi),VX,VY)\n",
    "    return R,phi,Z,VR,Vphi,VZ\n",
    "\n",
    "# from cylindric to cartesian\n",
    "def cyl2cart(R,phi,Z,VR,Vphi,VZ):\n",
    "    X=-R*np.cos(phi)\n",
    "    Y=-R*np.sin(phi)\n",
    "    VX,VY=rot(np.pi+phi,VR,Vphi)\n",
    "    return X,Y,Z,VX,VY,VZ\n",
    "##############################################\n",
    "#from cylindrical to solar (Vt, Vlos) \n",
    "def cyl2solar(R,phi,VR,Vphi,Rs=8.178,Z=0.,VZ=0.,Us=11.1,Vs=248.5,Ws=0.):\n",
    "    X=-R*np.cos(phi)\n",
    "    Y=-R*np.sin(phi)\n",
    "    lon=np.arctan2(Y,Rs+X)\n",
    "    vlos,vtl=rot(phi+np.pi-lon,VR,Vphi)\n",
    "    #print('phi',phi[0,:])\n",
    "    #print('lon',lon[0,:])\n",
    "    #ang=phi+np.pi-lon\n",
    "    #print('ang',ang[0,:])\n",
    "    c1,c2=add_solamotiontosolar(lon,0.,Us=Us,Vs=Vs,Ws=Ws)\n",
    "    vlos=vlos-c1\n",
    "    vtl=vtl-c2\n",
    "    return vlos,vtl\n",
    "##############################################\n",
    "#add solar reflex motion to solar-reference system velocities\n",
    "def add_solamotiontosolar(lon,lat,Us=11.1,Vs=248.5,Ws=7.25):    \n",
    "    solarreflex_Vlos=(Us*np.cos(lon)+Vs*np.sin(lon))*np.cos(lat)+Ws*np.sin(lat)#check\n",
    "    solarreflex_Vl=-Us*np.sin(lon)+Vs*np.cos(lon)\n",
    "    #solarreflex_Vb=(-Us*np.cos(lon)-Vs*np.sin(lon))*np.sin(lat)+Ws*np.cos(lat)\n",
    "    return solarreflex_Vlos,solarreflex_Vl\n"
   ]
  },
  {
   "cell_type": "markdown",
   "metadata": {},
   "source": [
    "## Con la siguiente función generaré los datos que jugaran el papel de las observaciones"
   ]
  },
  {
   "cell_type": "code",
   "execution_count": 80,
   "metadata": {},
   "outputs": [],
   "source": [
    "\n",
    "##############################################\n",
    "# function that returns Vtl(lon,d) array\n",
    "def vtl_lond(lon,d,amp=0.,alpha=0.,vc=236.,Rs=8.178,Z=0.,VZ=0.,Us=11.1,Vs=248.5,Ws=0.):\n",
    "    X=-Rs+d*np.cos(lon*np.pi/180.)\n",
    "    Y=d*np.sin(lon*np.pi/180.)\n",
    "    #in Kuijken and Tremaine: phi positive in direction of rotation\n",
    "    # but this is not a right-handed system\n",
    "    # we changed here with phi in the contrary sense, and vphi negative for normal rotation\n",
    "    phi=np.arctan2(-Y,-X).T\n",
    "    R=np.sqrt(X*X+Y*Y).T\n",
    "    #update below potential parameters in each model (axi, spirals, elliptical,etc):\n",
    "    vR=vR_Rphi(R,phi,amp=amp)\n",
    "    vphi=vphi_Rphi(R,phi,alpha=alpha,vc=vc)\n",
    "    vlos,vtl=cyl2solar(R,phi,vR,vphi,Rs=Rs,Z=Z,VZ=VZ,Us=Us,Vs=Vs,Ws=Ws)\n",
    "    return vtl\n",
    "\n",
    "# final function that returns Vtl(lon,d) array mirrored to lon=0\n",
    "# and adds errors of required\n",
    "amp=0.\n",
    "alpha=0.\n",
    "vc=236.\n",
    "Rs=8.178\n",
    "Z=0.\n",
    "VZ=0.\n",
    "Vs=248.5\n",
    "Ws=0.\n",
    "err=False\n",
    "def vtl_lond_sym(param,pool=None):\n",
    "    Us=param[0]\n",
    "    vtl=vtl_lond(lon,d,amp=amp,alpha=alpha,vc=vc,Rs=Rs,Z=Z,VZ=VZ,Us=Us,Vs=Vs,Ws=Ws) # Modified by Roger\n",
    "    if err==True:\n",
    "        #we add errors increasing as a function of distance:\n",
    "        mu, sigma = 0.,d.T # mean and standard dev increase as a function of distance\n",
    "        err2=np.random.normal(mu,sigma)\n",
    "        vtl=vtl+err2\n",
    "        #vmin=-30.\n",
    "        #vmax=30.\n",
    "        #plt.figure(figsize=(5,5))\n",
    "        #im=plt.imshow(np.flip(err2.T,axis=0), aspect='auto',extent=[0, x1, y0, y1], interpolation=\"nearest\", origin=\"upper\",cmap='seismic',vmin=vmin,vmax=vmax)\n",
    "        #ax = plt.gca()\n",
    "        #divider = make_axes_locatable(ax)\n",
    "        #cax = divider.append_axes(\"right\", size=\"5%\", pad=0.05)\n",
    "        #plt.colorbar(im, cax=cax)\n",
    "        #ax.set_xlabel('l (deg)')\n",
    "        #ax.set_ylabel('d (kpc)')\n",
    "        #ax.set_title('error added (km/s)')\n",
    "        #plt.show()\n",
    "    shape=np.shape(lon)\n",
    "    Nx=shape[1]\n",
    "    Ny=shape[0]\n",
    "    #print(Nx,Ny)\n",
    "    #print(Us)\n",
    "    vtl_neg_l=np.flip(vtl[0:int(Nx/2),:],axis=0)\n",
    "    vtl_pos_l=vtl[int(Nx/2):,:]\n",
    "    sym=vtl_pos_l-vtl_neg_l\n",
    "    return sym"
   ]
  },
  {
   "cell_type": "code",
   "execution_count": null,
   "metadata": {},
   "outputs": [],
   "source": []
  },
  {
   "cell_type": "markdown",
   "metadata": {},
   "source": [
    "# Create an array of perfect values to obtain value of Us with ABC"
   ]
  },
  {
   "cell_type": "markdown",
   "metadata": {},
   "source": [
    "## Pongo algunos plots par ilustrar el ejemplo"
   ]
  },
  {
   "cell_type": "code",
   "execution_count": 81,
   "metadata": {},
   "outputs": [],
   "source": [
    "# here we can see also how the function to be fitted is called"
   ]
  },
  {
   "cell_type": "code",
   "execution_count": 82,
   "metadata": {},
   "outputs": [
    {
     "name": "stdout",
     "output_type": "stream",
     "text": [
      "(51, 36)\n",
      "(36, 51)\n",
      "(18, 51)\n"
     ]
    }
   ],
   "source": [
    "#position of the Sun\n",
    "Rs=8.178\n",
    "err=False\n",
    "#define bins in galactic longitude and distance\n",
    "x0=-175.\n",
    "x1=175.\n",
    "y0=0.1\n",
    "y1=10.\n",
    "xbin=10.\n",
    "ybin=0.2\n",
    "lons=np.arange(x0,x1+xbin,xbin)\n",
    "ds=np.arange(y0,y1+ybin,ybin)\n",
    "#convert it to a 2d array\n",
    "lon,d=np.meshgrid(lons, ds)\n",
    "print(np.shape(lon))\n",
    "\n",
    "#compute array of Vtl(lon,d)\n",
    "vtl=vtl_lond(lon,d,Us=11.1)\n",
    "print(np.shape(vtl))\n",
    "\n",
    "#TEST 1\n",
    "#THIS IS THE FINAL SIMULATED ARRAY OF PERFECT OBSERVATIONS\n",
    "# the only parameter that can be fit is Us, that we set to 11.1 in this example\n",
    "#compute array of Vtl(lon,d) mirrored to lon=0\n",
    "paramo=[11.1]\n",
    "sym=vtl_lond_sym(paramo)\n",
    "print(np.shape(sym))\n",
    "\n"
   ]
  },
  {
   "cell_type": "markdown",
   "metadata": {},
   "source": [
    "### Este és el modelo con US=11.1 que jugará el papel de las observaciones"
   ]
  },
  {
   "cell_type": "code",
   "execution_count": 83,
   "metadata": {},
   "outputs": [
    {
     "data": {
      "image/png": "[encoded data removed]",
      "text/plain": [
       "<Figure size 720x360 with 2 Axes>"
      ]
     },
     "metadata": {
      "needs_background": "light"
     },
     "output_type": "display_data"
    }
   ],
   "source": [
    "vtl=vtl_lond(lon,d,Us=11.1)\n",
    "#example of plot for the array of Vtl(lon,d)\n",
    "vmin=-300.\n",
    "vmax=300.\n",
    "\n",
    "plt.figure(figsize=(10,5))\n",
    "im=plt.imshow(np.flip(vtl.T,axis=0), aspect='auto',extent=[x0-xbin/2., x1+xbin/2., y0-ybin/2, y1+ybin/2]\n",
    ",interpolation=\"nearest\", origin=\"upper\",cmap='seismic',vmin=vmin,vmax=vmax)\n",
    "ax = plt.gca()\n",
    "divider = make_axes_locatable(ax)\n",
    "cax = divider.append_axes(\"right\", size=\"5%\", pad=0.05)\n",
    "plt.colorbar(im, cax=cax)\n",
    "#ax.axvline(x=0)\n",
    "ax.axvline(0, lw=2, color=\"k\", ls=\"solid\");\n",
    "ax.set_xlabel('l (deg)',size=14)\n",
    "ax.set_ylabel('d (kpc)',size=14)\n",
    "ax.set_title(r'$v_T$ (km/s)',size=14)\n",
    "ax.xaxis.set_ticks(np.arange(-180, 180+1, 40.0))\n",
    "ax.tick_params(axis='x', labelsize=14)\n",
    "ax.tick_params(axis='y', labelsize=14)\n",
    "plt.show()"
   ]
  },
  {
   "cell_type": "markdown",
   "metadata": {},
   "source": [
    "## Este és el espacio donde compararemos modelo versus data (\"fake observations\")"
   ]
  },
  {
   "cell_type": "code",
   "execution_count": 84,
   "metadata": {},
   "outputs": [
    {
     "data": {
      "image/png": "[encoded data removed]",
      "text/plain": [
       "<Figure size 360x360 with 2 Axes>"
      ]
     },
     "metadata": {
      "needs_background": "light"
     },
     "output_type": "display_data"
    }
   ],
   "source": [
    "paramo=[11.1]\n",
    "sym=vtl_lond_sym(paramo)\n",
    "vmin=-30\n",
    "vmax=30\n",
    "\n",
    "\n",
    "plt.figure(figsize=(5,5))\n",
    "im=plt.imshow(np.flip(sym.T,axis=0), aspect='auto',extent=[0, x1, y0, y1], interpolation=\"nearest\", origin=\"upper\",cmap='seismic',vmin=vmin,vmax=vmax)\n",
    "ax = plt.gca()\n",
    "divider = make_axes_locatable(ax)\n",
    "cax = divider.append_axes(\"right\", size=\"5%\", pad=0.05)\n",
    "plt.colorbar(im, cax=cax)\n",
    "ax.set_xlabel('l (deg)')\n",
    "ax.set_ylabel('d (kpc)')\n",
    "ax.set_title(r'$v_{T\\ell} (\\ell>0) - v_{T\\ell} (\\ell<0)$ (km/s)')\n",
    "plt.show()"
   ]
  },
  {
   "cell_type": "markdown",
   "metadata": {},
   "source": [
    "## Empezamos ahora a trabajar con el ABC"
   ]
  },
  {
   "cell_type": "code",
   "execution_count": 85,
   "metadata": {},
   "outputs": [],
   "source": [
    "import astroabc"
   ]
  },
  {
   "cell_type": "markdown",
   "metadata": {},
   "source": [
    "## Below we define de funtion for the simulations:"
   ]
  },
  {
   "cell_type": "code",
   "execution_count": 86,
   "metadata": {},
   "outputs": [],
   "source": [
    "\n",
    "def vtl_lond_sym_abc(param,pool=None):\n",
    "    Us=param[0]\n",
    "    vtl=vtl_lond(lon,d,amp=amp,alpha=alpha,vc=vc,Rs=Rs,Z=Z,VZ=VZ,Us=Us,Vs=Vs,Ws=Ws) # Modified by Roger\n",
    "    if err==True:\n",
    "        #we add errors increasing as a function of distance:\n",
    "        mu, sigma = 0.,d.T # mean and standard dev increase as a function of distance\n",
    "        err2=np.random.normal(mu,sigma)\n",
    "        vtl=vtl+err2\n",
    "        #vmin=-30.\n",
    "        #vmax=30.\n",
    "        #plt.figure(figsize=(5,5))\n",
    "        #im=plt.imshow(np.flip(err2.T,axis=0), aspect='auto',extent=[0, x1, y0, y1], interpolation=\"nearest\", origin=\"upper\",cmap='seismic',vmin=vmin,vmax=vmax)\n",
    "        #ax = plt.gca()\n",
    "        #divider = make_axes_locatable(ax)\n",
    "        #cax = divider.append_axes(\"right\", size=\"5%\", pad=0.05)\n",
    "        #plt.colorbar(im, cax=cax)\n",
    "        #ax.set_xlabel('l (deg)')\n",
    "        #ax.set_ylabel('d (kpc)')\n",
    "        #ax.set_title('error added (km/s)')\n",
    "        #plt.show()\n",
    "    shape=np.shape(lon)\n",
    "    Nx=shape[1]\n",
    "    Ny=shape[0]\n",
    "    #print(Nx,Ny)\n",
    "    #print(Us)\n",
    "    vtl_neg_l=np.flip(vtl[0:int(Nx/2),:],axis=0)\n",
    "    vtl_pos_l=vtl[int(Nx/2):,:]\n",
    "    sym=vtl_pos_l-vtl_neg_l\n",
    "    sym2=np.reshape(sym,918)\n",
    "    return sym2"
   ]
  },
  {
   "cell_type": "markdown",
   "metadata": {},
   "source": [
    "## We define below the function of the distance metgric for this specific case"
   ]
  },
  {
   "cell_type": "code",
   "execution_count": 87,
   "metadata": {},
   "outputs": [],
   "source": [
    "def metric_asymetries(observed,simulated): # Function to compute the distance metric using Chi^2\n",
    "    \n",
    "   \n",
    "    \n",
    "    nanos=np.count_nonzero(np.isnan(simulated)) # Count the number of bins with nans\n",
    "    lens=len(simulated)                      \n",
    "       \n",
    "    \n",
    "    if nanos>0.25*lens:  # if more than 25% of the bins have nans assign distance=infinity\n",
    "        mychisum=float('Inf')\n",
    "    else:\n",
    "        mychi=np.nansum(((observed-simulated)/sigma)**2) # Sum of all Chi^2 for each bin                  \n",
    "        Nbin=lens-nanos                                 # Compute the number of bins without nans\n",
    "        mychisum=np.sum(mychi)/Nbin                     # Normalization over the number of bins\n",
    "    #print(mychisum)                       \n",
    "    return mychisum "
   ]
  },
  {
   "cell_type": "code",
   "execution_count": 88,
   "metadata": {},
   "outputs": [],
   "source": [
    "#position of the Sun\n",
    "Rs=8.178\n",
    "\n",
    "#define bins in galactic longitude and distance\n",
    "x0=-175.\n",
    "x1=175.\n",
    "y0=0.1\n",
    "y1=10.\n",
    "xbin=10.\n",
    "ybin=0.2\n",
    "lons=np.arange(x0,x1+xbin,xbin)\n",
    "ds=np.arange(y0,y1+ybin,ybin)\n",
    "#convert it to a 2d array\n",
    "lon,d=np.meshgrid(lons, ds)\n",
    "\n",
    "# Other Fixed Parameters\n",
    "amp=0.\n",
    "alpha=0.\n",
    "vc=236.\n",
    "Rs=8.178\n",
    "Z=0.\n",
    "VZ=0.\n",
    "Vs=248.5\n",
    "Ws=0.\n",
    "err=False"
   ]
  },
  {
   "cell_type": "code",
   "execution_count": 89,
   "metadata": {},
   "outputs": [],
   "source": [
    "# usamos una matriz de sigmas con unos (1) solo a model de ejemplo\n",
    "sigmam=np.ones((18,51))\n",
    "sigma=np.reshape(sigmam,918)"
   ]
  },
  {
   "cell_type": "code",
   "execution_count": 90,
   "metadata": {},
   "outputs": [],
   "source": [
    "# Hacemos algunos test para ver que la métrica funciona como deseamos\n",
    "paramo=[11.1]\n",
    "data1=vtl_lond_sym(paramo)\n",
    "data=np.reshape(data1,918)\n",
    "\n",
    "paramo=[50]\n",
    "data1=vtl_lond_sym(paramo)\n",
    "data2=np.reshape(data1,918)"
   ]
  },
  {
   "cell_type": "code",
   "execution_count": 91,
   "metadata": {},
   "outputs": [
    {
     "data": {
      "text/plain": [
       "3026.4200000000014"
      ]
     },
     "execution_count": 91,
     "metadata": {},
     "output_type": "execute_result"
    }
   ],
   "source": [
    "metric_asymetries(data,data2)"
   ]
  },
  {
   "cell_type": "code",
   "execution_count": 92,
   "metadata": {},
   "outputs": [
    {
     "data": {
      "text/plain": [
       "0.0"
      ]
     },
     "execution_count": 92,
     "metadata": {},
     "output_type": "execute_result"
    }
   ],
   "source": [
    "metric_asymetries(data,data)"
   ]
  },
  {
   "cell_type": "code",
   "execution_count": 93,
   "metadata": {},
   "outputs": [
    {
     "data": {
      "text/plain": [
       "0.0"
      ]
     },
     "execution_count": 93,
     "metadata": {},
     "output_type": "execute_result"
    }
   ],
   "source": [
    "metric_asymetries(data2,data2)"
   ]
  },
  {
   "cell_type": "code",
   "execution_count": 94,
   "metadata": {},
   "outputs": [],
   "source": [
    "model_sim=vtl_lond_sym_abc # definimos quien va a ser la función para hacer las simulaciones"
   ]
  },
  {
   "cell_type": "code",
   "execution_count": 95,
   "metadata": {},
   "outputs": [],
   "source": [
    "# Definimos quien van a ser \"las observaciones\". La variable global \"data\" és la que debe contener las observaciones\n",
    "paramo=[11.1]\n",
    "data1=vtl_lond_sym(paramo)\n",
    "data=np.reshape(data1,918)"
   ]
  },
  {
   "cell_type": "markdown",
   "metadata": {},
   "source": [
    "### astroABC for python\n",
    "\n",
    "### Key features\n",
    "\n",
    "-    Parallel sampling using MPI or multiprocessing\n",
    "-    MPI communicator can be split so both the sampler, and simulation launched by each particle, can run in parallel\n",
    "\n",
    "-    A Sequential Monte Carlo sampler (see e.g. Toni et al. 2009, Beaumont et al. 2009, Sisson & Fan 2010)\n",
    "\n",
    "-    A method for iterative adapting tolerance levels using the qth quantile of the distance for t iterations (Turner & Van Zandt (2012))\n",
    "\n",
    "-    Scikit-learn covariance matrix estimation using Ledoit-Wolf shrinkage for singular matrices\n",
    "\n",
    "-    A module for specifying particle covariance using method proposed by Turner & Van Zandt (2012), optimal covariance matrix for a multivariate normal perturbation kernel, local covariance estimate using scikit-learn KDTree method for nearest neighbours (Filippi et al 2013) and a weighted covariance (Beaumont et al 2009)\n",
    "\n",
    "-    Restart files output frequently so an interrupted run can be resumed at any iteration\n",
    "-    Output and restart files are backed up every iteration\n",
    "-    User defined distance metric and simulation methods\n",
    "-    A class for specifying heterogeneous parameter priors\n",
    "-    Methods for drawing from any non-standard prior PDF e.g using Planck/WMAP chains\n",
    "-    A module for specifying a constant, linear, log or exponential tolerance level\n",
    "-    Well-documented examples and sample scripts\n"
   ]
  },
  {
   "cell_type": "markdown",
   "metadata": {},
   "source": [
    "Next we specify priors for each of the parameters we want to vary in the sampler. This is done by specifying a list of tuples. The zeroth element in each tuple should be a string specifying the prior for this parameter and the first element should be a list of the hyperparameters needed for this prior."
   ]
  },
  {
   "cell_type": "code",
   "execution_count": 96,
   "metadata": {},
   "outputs": [],
   "source": [
    "priors =  [('uniform', [1., 500.])] # Define the priors por the parameters to explore"
   ]
  },
  {
   "cell_type": "markdown",
   "metadata": {},
   "source": [
    "Next we need to set some keywords for astroABC. This can be done by creating a dictionary of inputs which are passed to the sampler. Many of these entries have defaults and do not need to be specified explicitly.\n",
    "Only the name of the distance metric method needs to be explicity provided as a keyword.\n",
    "The full set of keywords are given in the doc string of the class. Some examples are\n",
    "\n",
    "- tol_type: which specifies the decreasing tolerance levels. \"exp\",\"lin\", \"log\" and \"const\" are options. (default = 'exp')\n",
    "\n",
    "- verbose: level of verbosity, 0 = no printout to screen, 1 = print to screen  (default = 0)\n",
    "\n",
    "- adapt_t: Boolean True/False for adaptive threshold setting (default = False)\n",
    "\n",
    "- threshold: qth quantile used in adaptive threshold setting (default = 75)\n",
    "\n",
    "- pert_kernel: 1 =component wise pert. with local diag variance; 2 = multivariate pert. based on local covariance\n",
    "\n",
    "- variance_method: 0 =weighted covariance, 1= Filippi, 2 = TVZ, 3= Leodoit_Wolf, 4=k-nn (default = 0)\n",
    "\n",
    "- dfunc:method for calculating the distance metric\n",
    "\n",
    "- from_restart: Boolean True/False\n",
    "\n",
    "- restart: string name of restart file\n",
    "\n",
    "- outfile:string specifying name of output file (default = abc_out.txt)\n",
    "\n",
    "- mpi: Boolean True/False (default = False)\n",
    "\n",
    "- mp:Boolean True/False (default = False)\n",
    "\n",
    "- num_proc:number of threads for mp setting (default = None)\n",
    "\n",
    "Please see the doc strings of the astroABC sampler for details on each of these settings."
   ]
  },
  {
   "cell_type": "code",
   "execution_count": 97,
   "metadata": {},
   "outputs": [],
   "source": [
    "# Define the properties for the astroabc package\n",
    "\n",
    "\n",
    "prop={ 'dfunc':metric_asymetries,'verbose':1, 'adapt_t': True, 'pert_kernel':2 , 'mp': True, 'num_proc':4}"
   ]
  },
  {
   "cell_type": "markdown",
   "metadata": {},
   "source": [
    "Now we are ready to create an instance of our sampler. \n",
    "To do this we just need to specify the following to the astroabc.ABC_class\n",
    "\n",
    "astroabc.ABC_class(number of parameters,number of particles,data,tolerance levels,number of iterations,priors,prop)"
   ]
  },
  {
   "cell_type": "code",
   "execution_count": 98,
   "metadata": {},
   "outputs": [
    {
     "name": "stdout",
     "output_type": "stream",
     "text": [
      "\t \t\n",
      "\t ########################     astroABC     ########################\t\n",
      "\t \t\n",
      "\t Npart=200 \t numt=20 \t tol=[1000.0000,0.0100] exp\n",
      "('\\t Priors=', [('uniform', [1.0, 500.0])])\n"
     ]
    }
   ],
   "source": [
    "sampler = astroabc.ABC_class(1,200,data,[1000,0.01],20,priors,**prop)"
   ]
  },
  {
   "cell_type": "code",
   "execution_count": 99,
   "metadata": {},
   "outputs": [
    {
     "name": "stdout",
     "output_type": "stream",
     "text": [
      "('\\t Step:', 0, '\\t tol:', 1000.0, '\\t Params:', [16.57132800812104])\n",
      "('\\t Step:', 1, '\\t tol:', 281.91371553196905, '\\t Params:', [12.560008052523031])\n",
      "('\\t Step:', 2, '\\t tol:', 148.13204475714508, '\\t Params:', [11.373392555218897])\n",
      "('\\t Step:', 3, '\\t tol:', 71.62512195470697, '\\t Params:', [10.8035786266791])\n",
      "('\\t Step:', 4, '\\t tol:', 34.38981028121057, '\\t Params:', [10.825316917399137])\n",
      "('\\t Step:', 5, '\\t tol:', 16.594755810167015, '\\t Params:', [11.118814051006542])\n",
      "('\\t Step:', 6, '\\t tol:', 8.322150347940514, '\\t Params:', [11.17164436007367])\n",
      "('\\t Step:', 7, '\\t tol:', 4.227843692819042, '\\t Params:', [11.096650253875495])\n",
      "('\\t Step:', 8, '\\t tol:', 2.3222056850513213, '\\t Params:', [11.098019791210397])\n",
      "('\\t Step:', 9, '\\t tol:', 1.2295437982343582, '\\t Params:', [11.119469749481077])\n",
      "('\\t Step:', 10, '\\t tol:', 0.6810231695432055, '\\t Params:', [11.125064095327748])\n",
      "('\\t Step:', 11, '\\t tol:', 0.3724616692445877, '\\t Params:', [11.080388489029769])\n",
      "('\\t Step:', 12, '\\t tol:', 0.15297780201267513, '\\t Params:', [11.070933586413874])\n",
      "('\\t Step:', 13, '\\t tol:', 0.09104386383062017, '\\t Params:', [11.091559133667012])\n",
      "('\\t Step:', 14, '\\t tol:', 0.04756884942298045, '\\t Params:', [11.089069055584327])\n",
      "('\\t Step:', 15, '\\t tol:', 0.022470497553995016, '\\t Params:', [11.100229656244997])\n",
      "('\\t Step:', 16, '\\t tol:', 0.010540340554673271, '\\t Params:', [11.10183759777407])\n",
      "('\\t Step:', 17, '\\t tol:', 0.01, '\\t Params:', [11.100956046889756])\n"
     ]
    }
   ],
   "source": [
    "sampler.sample(model_sim) # Here we run the ABC algoritm"
   ]
  },
  {
   "cell_type": "markdown",
   "metadata": {},
   "source": [
    "# Now we go to plot the results"
   ]
  },
  {
   "cell_type": "code",
   "execution_count": 100,
   "metadata": {},
   "outputs": [
    {
     "name": "stdout",
     "output_type": "stream",
     "text": [
      "3600\n"
     ]
    },
    {
     "data": {
      "text/plain": [
       "1"
      ]
     },
     "execution_count": 100,
     "metadata": {},
     "output_type": "execute_result"
    }
   ],
   "source": [
    "\n",
    "Us_list=[]\n",
    "Iang_list=[]\n",
    "Omep_list=[]\n",
    "Fipo_list=[]\n",
    "Distance_list=[]\n",
    "total_list=[]\n",
    "\n",
    "with open('abc_out.txt') as ABCresults: # Reading the simulation variables\n",
    "\n",
    "    for line in ABCresults:\n",
    "        if not line.startswith(\"param\"): \n",
    "            VariableS =line.split()\n",
    "            Us=float(VariableS[0])  # Assigning the variable X\n",
    "           \n",
    "            distance=float(VariableS[1])\n",
    "            \n",
    "            Us_list.append(Us)\n",
    "               \n",
    "            Distance_list.append(distance)\n",
    "\n",
    "\n",
    "print(len(Us_list))\n",
    "  \n",
    "US=np.array(Us_list).reshape(len(Us_list))    \n",
    "\n",
    "\n",
    "\n",
    "dataplot=np.matrix(US)\n",
    "len(dataplot)"
   ]
  },
  {
   "cell_type": "code",
   "execution_count": null,
   "metadata": {},
   "outputs": [],
   "source": []
  },
  {
   "cell_type": "code",
   "execution_count": 101,
   "metadata": {},
   "outputs": [
    {
     "data": {
      "image/png": "[encoded data removed]",
      "text/plain": [
       "<Figure size 720x720 with 1 Axes>"
      ]
     },
     "metadata": {
      "needs_background": "light"
     },
     "output_type": "display_data"
    },
    {
     "name": "stdout",
     "output_type": "stream",
     "text": [
      "1.0\n"
     ]
    }
   ],
   "source": [
    "bins=np.arange(0.00,20,0.25)\n",
    "plt.figure(figsize=(10,10))\n",
    "pdf, bins, patches=plt.hist(Us_list,bins=bins, histtype=\"step\", color=\"green\", lw=3, normed=True, label='ABC Results')\n",
    "plt.xlabel('$\\gamma$',fontsize=30)\n",
    "plt.gca().axvline(11.1, lw=2, color=\"k\", ls=\"dashed\",label=\"imposed value=11.1\");\n",
    "\n",
    "\n",
    "plt.xlabel('$Us$',fontsize=30)\n",
    "\n",
    "\n",
    "\n",
    ";\n",
    "plt.gca().set_yticklabels(np.array([0,0.2,0.4,0.6,0.8,1.0,1.2,1.4])*0.25)\n",
    "plt.tick_params(labelsize=20)\n",
    "plt.ylabel(\"$p(Us\\,|\\,data)$\",size=30)\n",
    "#plt.xlim(0.0, 0.3)\n",
    "plt.legend()\n",
    "plt.show()\n",
    "\n",
    "\n",
    "print(sum(pdf*0.25))"
   ]
  },
  {
   "cell_type": "code",
   "execution_count": null,
   "metadata": {},
   "outputs": [],
   "source": []
  }
 ],
 "metadata": {
  "kernelspec": {
   "display_name": "Python 2",
   "language": "python",
   "name": "python2"
  },
  "language_info": {
   "codemirror_mode": {
    "name": "ipython",
    "version": 2
   },
   "file_extension": ".py",
   "mimetype": "text/x-python",
   "name": "python",
   "nbconvert_exporter": "python",
   "pygments_lexer": "ipython2",
   "version": "2.7.16"
  }
 },
 "nbformat": 4,
 "nbformat_minor": 2
}
